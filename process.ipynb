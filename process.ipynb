{
 "cells": [
  {
   "cell_type": "code",
   "execution_count": null,
   "id": "d7ea810d",
   "metadata": {},
   "outputs": [],
   "source": [
    "import os\n",
    "import pandas as pd\n",
    "import numpy as np\n",
    "import random"
   ]
  },
  {
   "cell_type": "code",
   "execution_count": null,
   "id": "1760ccf9",
   "metadata": {},
   "outputs": [],
   "source": [
    "input_file = "
   ]
  },
  {
   "cell_type": "code",
   "execution_count": null,
   "id": "f6e4f3ba",
   "metadata": {},
   "outputs": [],
   "source": [
    "delta_compound_file = \n",
    "delta_dti_file = \n",
    "delta_protein = "
   ]
  },
  {
   "cell_type": "code",
   "execution_count": null,
   "id": "407320c3",
   "metadata": {},
   "outputs": [],
   "source": []
  },
  {
   "cell_type": "code",
   "execution_count": null,
   "id": "6877fa5d",
   "metadata": {},
   "outputs": [],
   "source": [
    "protein  = pd.read_csv(delta_protein)\n",
    "protein_list = list(protein['Protein_ID'].values)"
   ]
  },
  {
   "cell_type": "code",
   "execution_count": null,
   "id": "a3b1bbb0",
   "metadata": {},
   "outputs": [],
   "source": [
    "compound  = pd.read_csv(delta_compound_file)\n",
    "compound_list = list(compound['Compound_ID'].values)"
   ]
  },
  {
   "cell_type": "code",
   "execution_count": null,
   "id": "387e24a8",
   "metadata": {},
   "outputs": [],
   "source": [
    "dti = pd.read_csv(delta_dti_file)\n",
    "dti"
   ]
  },
  {
   "cell_type": "code",
   "execution_count": null,
   "id": "e22f7718",
   "metadata": {},
   "outputs": [],
   "source": [
    "negative_ratio = \n",
    "dti_protein_set  = list(set(dti['Protein_ID'].values))\n",
    "cor_compounds = []\n",
    "cor_proteins = []\n",
    "cor_labels = []\n",
    "\n",
    "for index in range(len(dti_protein_set)):\n",
    "    dti_items = dti[dti['Protein_ID']==dti_protein_set[index]]\n",
    "    dti_item_compounds = list(set(dti_items['Compound_ID'].values))\n",
    "    remaining_compounds = list(set(compound_list) - set(dti_item_compounds))\n",
    "    sample_num = negative_ratio*len(dti_items)\n",
    "\n",
    "    selected_compounds = random.sample(remaining_compounds, sample_num)#\n",
    "    cor_compounds.append(selected_compounds)\n",
    "    cor_protein = [dti_protein_set[index]]*len(selected_compounds)\n",
    "    cor_proteins.append(cor_protein)\n",
    "    cor_label = ['0']*len(selected_compounds)\n",
    "    cor_labels.append(cor_label)"
   ]
  },
  {
   "cell_type": "code",
   "execution_count": null,
   "id": "00b3b1ca",
   "metadata": {},
   "outputs": [],
   "source": [
    "new_cor_compounds= [n for a in cor_compounds for n in a]\n",
    "new_cor_proteins= [n for a in cor_proteins for n in a]\n",
    "new_cor_labels = [n for a in cor_labels for n in a]\n",
    "negative_df = {'Compound_ID':new_cor_compounds,'Protein_ID':new_cor_proteins,'Label':new_cor_labels}\n",
    "negative_df = pd.DataFrame(negative_df)"
   ]
  },
  {
   "cell_type": "code",
   "execution_count": null,
   "id": "014e74c7",
   "metadata": {},
   "outputs": [],
   "source": [
    "negative_df.to_csv(index=False)"
   ]
  },
  {
   "cell_type": "code",
   "execution_count": null,
   "id": "4e95ac7a",
   "metadata": {},
   "outputs": [],
   "source": []
  }
 ],
 "metadata": {
  "kernelspec": {
   "display_name": "Python 3",
   "language": "python",
   "name": "python3"
  },
  "language_info": {
   "codemirror_mode": {
    "name": "ipython",
    "version": 3
   },
   "file_extension": ".py",
   "mimetype": "text/x-python",
   "name": "python",
   "nbconvert_exporter": "python",
   "pygments_lexer": "ipython3",
   "version": "3.7.10"
  }
 },
 "nbformat": 4,
 "nbformat_minor": 5
}

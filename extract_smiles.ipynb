{
 "cells": [
  {
   "cell_type": "code",
   "execution_count": null,
   "id": "6b5e2194",
   "metadata": {},
   "outputs": [],
   "source": [
    "#get drug features using Deepchem library\n",
    "import warnings\n",
    "warnings.filterwarnings(\"ignore\")\n",
    "import os\n",
    "import deepchem as dc\n",
    "from rdkit import Chem\n",
    "import numpy as np\n",
    "import hickle as hkl\n",
    "import pandas as pd "
   ]
  },
  {
   "cell_type": "code",
   "execution_count": null,
   "id": "05c09d33",
   "metadata": {},
   "outputs": [],
   "source": [
    "training_compound_dir = \n",
    "# validation_compound_dir = \n",
    "# test_compound_dir = \n",
    "\n",
    "training_compound_save_dir = \n",
    "# validation_compound_save_dir = \n",
    "# test_compound_save_dir = \n",
    "\n",
    "training_compound_info = pd.read_csv(training_compound_dir)\n",
    "# validation_compound_info = pd.read_csv(validation_compound_dir)\n",
    "# test_compound_info = pd.read_csv(test_compound_dir)"
   ]
  },
  {
   "cell_type": "code",
   "execution_count": null,
   "id": "7d3a2e8f",
   "metadata": {},
   "outputs": [],
   "source": [
    "training_compound_smiles = {}\n",
    "for index, row in training_compound_info.iterrows():\n",
    "    training_compound_smiles[row['Compound_ID']] = row['SMILES']"
   ]
  },
  {
   "cell_type": "code",
   "execution_count": null,
   "id": "120feb9e",
   "metadata": {},
   "outputs": [],
   "source": [
    "validation_compound_smiles = {}\n",
    "for index, row in validation_compound_info.iterrows():\n",
    "    validation_compound_smiles[row['Compound_ID']] = row['SMILES']"
   ]
  },
  {
   "cell_type": "code",
   "execution_count": null,
   "id": "6cc2e858",
   "metadata": {},
   "outputs": [],
   "source": [
    "test_compound_smiles = {}\n",
    "for index, row in test_compound_info.iterrows():\n",
    "    test_compound_smiles[row['Compound_ID']] = row['SMILES']"
   ]
  },
  {
   "cell_type": "code",
   "execution_count": null,
   "id": "335e8232",
   "metadata": {},
   "outputs": [],
   "source": [
    "molecules = []\n",
    "for each in validation_compound_smiles.keys():\n",
    "    #print(each)\n",
    "    molecules=[]\n",
    "    molecules.append(Chem.MolFromSmiles(validation_compound_smiles[each]))\n",
    "    featurizer = dc.feat.graph_features.ConvMolFeaturizer()\n",
    "    mol_object = featurizer.featurize(mols=molecules)\n",
    "    features = mol_object[0].atom_features\n",
    "    degree_list = mol_object[0].deg_list\n",
    "    adj_list = mol_object[0].canon_adj_list\n",
    "    hkl.dump([features,adj_list,degree_list],'%s/%s.hkl'%(validation_compound_save_dir,each))"
   ]
  },
  {
   "cell_type": "code",
   "execution_count": null,
   "id": "f58242f6",
   "metadata": {},
   "outputs": [],
   "source": [
    "molecules = []\n",
    "for each in training_compound_smiles.keys():\n",
    "    #print(each)\n",
    "    molecules=[]\n",
    "    molecules.append(Chem.MolFromSmiles(training_compound_smiles[each]))\n",
    "    featurizer = dc.feat.graph_features.ConvMolFeaturizer()\n",
    "    mol_object = featurizer.featurize(mols=molecules)\n",
    "    features = mol_object[0].atom_features\n",
    "    degree_list = mol_object[0].deg_list\n",
    "    adj_list = mol_object[0].canon_adj_list\n",
    "    hkl.dump([features,adj_list,degree_list],'%s/%s.hkl'%(training_compound_save_dir,each))"
   ]
  },
  {
   "cell_type": "code",
   "execution_count": null,
   "id": "3071e22a",
   "metadata": {},
   "outputs": [],
   "source": [
    "molecules = []\n",
    "for each in test_compound_smiles.keys():\n",
    "    #print(each)\n",
    "    molecules=[]\n",
    "    molecules.append(Chem.MolFromSmiles(test_compound_smiles[each]))\n",
    "    featurizer = dc.feat.graph_features.ConvMolFeaturizer()\n",
    "    mol_object = featurizer.featurize(mols=molecules)\n",
    "    features = mol_object[0].atom_features\n",
    "    degree_list = mol_object[0].deg_list\n",
    "    adj_list = mol_object[0].canon_adj_list\n",
    "    hkl.dump([features,adj_list,degree_list],'%s/%s.hkl'%(test_compound_save_dir,each))"
   ]
  },
  {
   "cell_type": "code",
   "execution_count": null,
   "id": "d0354286",
   "metadata": {},
   "outputs": [],
   "source": [
    "print(len(training_compound_smiles),len(validation_compound_smiles),len(test_compound_smiles))"
   ]
  }
 ],
 "metadata": {
  "kernelspec": {
   "display_name": "Python 3",
   "language": "python",
   "name": "python3"
  },
  "language_info": {
   "codemirror_mode": {
    "name": "ipython",
    "version": 3
   },
   "file_extension": ".py",
   "mimetype": "text/x-python",
   "name": "python",
   "nbconvert_exporter": "python",
   "pygments_lexer": "ipython3",
   "version": "3.7.10"
  }
 },
 "nbformat": 4,
 "nbformat_minor": 5
}
